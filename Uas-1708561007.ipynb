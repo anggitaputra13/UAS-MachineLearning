{
 "cells": [
  {
   "cell_type": "code",
   "execution_count": 67,
   "metadata": {},
   "outputs": [],
   "source": [
    "#Program UAS Matakuliah Machine Learning\n",
    "#Program ini menggunakan keras dan backend menggunakan tensorflow untuk memprediksi data pasien apakah mengalami diabetes atau tidak dalam 5 tahun terakhir\n",
    "#Program ini menggunakan algoritma neural network\n",
    "#Dataset menggunakan data Pima Indians Diabetes Database , Sumber : https://www.kaggle.com/search?q=pima+indians+diabetes"
   ]
  },
  {
   "cell_type": "code",
   "execution_count": 77,
   "metadata": {},
   "outputs": [],
   "source": [
    "#load Data\n",
    "import pandas as pd\n",
    "from numpy import loadtxt\n",
    "from keras.models import Sequential\n",
    "from keras.layers import Dense"
   ]
  },
  {
   "cell_type": "code",
   "execution_count": 78,
   "metadata": {},
   "outputs": [
    {
     "name": "stdout",
     "output_type": "stream",
     "text": [
      "      6  148  72  35    0  33.6  0.627  50  1\n",
      "0     1   85  66  29    0  26.6  0.351  31  0\n",
      "1     8  183  64   0    0  23.3  0.672  32  1\n",
      "2     1   89  66  23   94  28.1  0.167  21  0\n",
      "3     0  137  40  35  168  43.1  2.288  33  1\n",
      "4     5  116  74   0    0  25.6  0.201  30  0\n",
      "..   ..  ...  ..  ..  ...   ...    ...  .. ..\n",
      "762  10  101  76  48  180  32.9  0.171  63  0\n",
      "763   2  122  70  27    0  36.8  0.340  27  0\n",
      "764   5  121  72  23  112  26.2  0.245  30  0\n",
      "765   1  126  60   0    0  30.1  0.349  47  1\n",
      "766   1   93  70  31    0  30.4  0.315  23  0\n",
      "\n",
      "[767 rows x 9 columns]\n"
     ]
    }
   ],
   "source": [
    "# load the dataset\n",
    "dataset = loadtxt('pima-indians-diabetes.data.csv', delimiter=',')\n",
    "data = pd.read_csv('pima-indians-diabetes.data.csv')\n",
    "print(data)\n",
    "# split into input (X) and output (y) variables\n",
    "x = dataset[:,0:8]\n",
    "y = dataset[:,8]\n",
    "\n",
    "#Keterangan Data\n",
    "#Kolom 1 Berapa kali hamil\n",
    "#Kolom 2 Konsentrasi glukosa plasma 2 jam dalam tes toleransi glukosa oral\n",
    "#Kolom 3 Tekanan darah diastolik (mm Hg)\n",
    "#Kolom 4 Ketebalan lipatan kulit trisep (mm)\n",
    "#Kolom 5 Insulin serum 2 jam (mu U / ml)\n",
    "#Kolom 6 Indeks massa tubuh (berat dalam kg / (tinggi dalam m) ^ 2)\n",
    "#Kolom 7 Fungsi silsilah diabetes\n",
    "#Kolom 8 Umur (tahun)\n",
    "#Kolom 9 Input/Output"
   ]
  },
  {
   "cell_type": "code",
   "execution_count": 79,
   "metadata": {},
   "outputs": [],
   "source": [
    "# define the keras model\n",
    "model = Sequential()\n",
    "model.add(Dense(12, input_dim=8, activation='relu'))\n",
    "model.add(Dense(8, activation='relu'))\n",
    "model.add(Dense(1, activation='sigmoid'))"
   ]
  },
  {
   "cell_type": "code",
   "execution_count": 80,
   "metadata": {},
   "outputs": [],
   "source": [
    "# compile the keras model\n",
    "model.compile(loss='binary_crossentropy', optimizer='adam', metrics=['accuracy'])"
   ]
  },
  {
   "cell_type": "code",
   "execution_count": 81,
   "metadata": {},
   "outputs": [
    {
     "data": {
      "text/plain": [
       "<tensorflow.python.keras.callbacks.History at 0x14fa4c31310>"
      ]
     },
     "execution_count": 81,
     "metadata": {},
     "output_type": "execute_result"
    }
   ],
   "source": [
    "# fit the keras model on the dataset\n",
    "model.fit(x, y, epochs=150, batch_size=10, verbose=0)"
   ]
  },
  {
   "cell_type": "code",
   "execution_count": 84,
   "metadata": {},
   "outputs": [
    {
     "name": "stdout",
     "output_type": "stream",
     "text": [
      "24/24 [==============================] - 0s 1ms/step - loss: 0.5512 - accuracy: 0.7109\n",
      "Accuracy: 71.09\n"
     ]
    }
   ],
   "source": [
    "# evaluate the keras model\n",
    "_, accuracy = model.evaluate(x, y)\n",
    "print('Accuracy: %.2f' % (accuracy*100))"
   ]
  },
  {
   "cell_type": "code",
   "execution_count": 83,
   "metadata": {},
   "outputs": [
    {
     "name": "stdout",
     "output_type": "stream",
     "text": [
      "[6.0, 148.0, 72.0, 35.0, 0.0, 33.6, 0.627, 50.0] => 1 (expected 1)\n",
      "[1.0, 85.0, 66.0, 29.0, 0.0, 26.6, 0.351, 31.0] => 0 (expected 0)\n",
      "[8.0, 183.0, 64.0, 0.0, 0.0, 23.3, 0.672, 32.0] => 1 (expected 1)\n",
      "[1.0, 89.0, 66.0, 23.0, 94.0, 28.1, 0.167, 21.0] => 0 (expected 0)\n",
      "[0.0, 137.0, 40.0, 35.0, 168.0, 43.1, 2.288, 33.0] => 0 (expected 1)\n"
     ]
    }
   ],
   "source": [
    "# make class predictions with the model\n",
    "predictions = model.predict_classes(X)\n",
    "# summarize the first 5 cases\n",
    "for i in range(5):\n",
    "\tprint('%s => %d (expected %d)' % (X[i].tolist(), predictions[i], y[i]))"
   ]
  },
  {
   "cell_type": "code",
   "execution_count": null,
   "metadata": {},
   "outputs": [],
   "source": []
  },
  {
   "cell_type": "code",
   "execution_count": null,
   "metadata": {},
   "outputs": [],
   "source": []
  }
 ],
 "metadata": {
  "kernelspec": {
   "display_name": "Python 3",
   "language": "python",
   "name": "python3"
  },
  "language_info": {
   "codemirror_mode": {
    "name": "ipython",
    "version": 3
   },
   "file_extension": ".py",
   "mimetype": "text/x-python",
   "name": "python",
   "nbconvert_exporter": "python",
   "pygments_lexer": "ipython3",
   "version": "3.8.5"
  }
 },
 "nbformat": 4,
 "nbformat_minor": 4
}
